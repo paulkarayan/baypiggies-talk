{
 "cells": [
  {
   "cell_type": "markdown",
   "metadata": {},
   "source": [
    "You can do all sorts of fun browser hacking to control the notebook. \n",
    "Perhaps the most obvious ones are the extensions - but you can:\n",
    "* programmatically manipulate cells\n",
    "* style the notebook (on brand, perhaps?)\n",
    "* extend the menu items and methods\n",
    "and so much more!"
   ]
  },
  {
   "cell_type": "code",
   "execution_count": 3,
   "metadata": {},
   "outputs": [
    {
     "data": {
      "application/javascript": [
       "var output_area = this;\n",
       "// find my cell element\n",
       "var cell_element = output_area.element.parents('.cell');\n",
       "// which cell is it?\n",
       "var cell_idx = Jupyter.notebook.get_cell_elements().index(cell_element);\n",
       "// get the cell object\n",
       "var cell = Jupyter.notebook.get_cell(cell_idx);\n",
       "console.log(cell_idx, cell)\n"
      ],
      "text/plain": [
       "<IPython.core.display.Javascript object>"
      ]
     },
     "metadata": {},
     "output_type": "display_data"
    }
   ],
   "source": [
    "hello"
   ]
  },
  {
   "cell_type": "code",
   "execution_count": 4,
   "metadata": {},
   "outputs": [],
   "source": [
    "# now go look in your developer tools!"
   ]
  },
  {
   "cell_type": "code",
   "execution_count": null,
   "metadata": {},
   "outputs": [],
   "source": [
    "## we can also show this in the console.\n",
    "# copy and paste this there. we'll move the contents of the 2nd cell into the 4th cell...\n",
    "\n",
    "var cell = Jupyter.notebook.get_cell(1);\n",
    "var contents = cell.get_text();\n",
    "console.log(contents)\n",
    "cell.output_area(contents);\n",
    "\n"
   ]
  },
  {
   "cell_type": "code",
   "execution_count": null,
   "metadata": {},
   "outputs": [],
   "source": [
    "%%javascript \n",
    "// useful for seeing what methods you can apply to an object. try it with \"cell\"\n",
    "const getMethods = (obj) => {\n",
    "  let properties = new Set()\n",
    "  let currentObj = obj\n",
    "  do {\n",
    "    Object.getOwnPropertyNames(currentObj).map(item => properties.add(item))\n",
    "  } while ((currentObj = Object.getPrototypeOf(currentObj)))\n",
    "  return [...properties.keys()].filter(item => typeof obj[item] === 'function')\n",
    "}"
   ]
  },
  {
   "cell_type": "code",
   "execution_count": 6,
   "metadata": {},
   "outputs": [
    {
     "data": {
      "application/javascript": [
       "// you can replace me now\n",
       "var cell = Jupyter.notebook.get_cell(5);\n",
       "cell.set_text(\"hello\")\n"
      ],
      "text/plain": [
       "<IPython.core.display.Javascript object>"
      ]
     },
     "metadata": {},
     "output_type": "display_data"
    }
   ],
   "source": [
    "%%javascript\n",
    "// you can replace cell below me now\n",
    "var cell = Jupyter.notebook.get_cell(6);\n",
    "cell.set_text(\"hello\")"
   ]
  },
  {
   "cell_type": "code",
   "execution_count": null,
   "metadata": {},
   "outputs": [],
   "source": [
    "# replace me!"
   ]
  }
 ],
 "metadata": {
  "kernelspec": {
   "display_name": "Python 3",
   "language": "python",
   "name": "python3"
  },
  "language_info": {
   "codemirror_mode": {
    "name": "ipython",
    "version": 3
   },
   "file_extension": ".py",
   "mimetype": "text/x-python",
   "name": "python",
   "nbconvert_exporter": "python",
   "pygments_lexer": "ipython3",
   "version": "3.7.7"
  }
 },
 "nbformat": 4,
 "nbformat_minor": 4
}

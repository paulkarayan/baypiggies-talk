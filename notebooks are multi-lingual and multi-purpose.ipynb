{
 "cells": [
  {
   "cell_type": "markdown",
   "metadata": {},
   "source": [
    "# 1. notebooks are multi-lingual and multi-purpose\n"
   ]
  },
  {
   "cell_type": "markdown",
   "metadata": {},
   "source": [
    "## Simple Examples"
   ]
  },
  {
   "cell_type": "code",
   "execution_count": 1,
   "metadata": {},
   "outputs": [
    {
     "name": "stdout",
     "output_type": "stream",
     "text": [
      "Hello, pythonistas!\n"
     ]
    }
   ],
   "source": [
    "# here i am running python\n",
    "print(\"Hello, pythonistas!\")"
   ]
  },
  {
   "cell_type": "code",
   "execution_count": 16,
   "metadata": {},
   "outputs": [
    {
     "name": "stdout",
     "output_type": "stream",
     "text": [
      "This entire cell is bash - because of the magic method\n"
     ]
    }
   ],
   "source": [
    "%%bash\n",
    "# or you can use Bash\n",
    "# the 'magic method' is the %%\n",
    "echo This entire cell is bash - because of the magic method"
   ]
  },
  {
   "cell_type": "code",
   "execution_count": 3,
   "metadata": {},
   "outputs": [
    {
     "name": "stdout",
     "output_type": "stream",
     "text": [
      "im subprocess\r\n"
     ]
    }
   ],
   "source": [
    "# where this gets really powerful is because you can mix & match bash and python \n",
    "# with the ! \n",
    "!echo im subprocess\n",
    "# this is just invoking subprocess \n"
   ]
  },
  {
   "cell_type": "code",
   "execution_count": 18,
   "metadata": {},
   "outputs": [
    {
     "data": {
      "text/plain": [
       "'172.217.164.100'"
      ]
     },
     "execution_count": 18,
     "metadata": {},
     "output_type": "execute_result"
    }
   ],
   "source": [
    "# it's not just running a command. i can assign bash output to python variable, do string interpolation, etc...\n",
    "google_a=!dig A www.google.com\n",
    "google_a.grep('^www').fields(-1).s\n",
    "\n",
    "\n",
    "# so think about how much easier (or easier to read) this is than doing it in one language or another\n",
    "# way better than a HEREDOC! :)"
   ]
  },
  {
   "cell_type": "code",
   "execution_count": 19,
   "metadata": {},
   "outputs": [
    {
     "name": "stdout",
     "output_type": "stream",
     "text": [
      "172.217.164.100\n"
     ]
    }
   ],
   "source": [
    "# I can even use the output in the next cell!\n",
    "print(_)"
   ]
  },
  {
   "cell_type": "markdown",
   "metadata": {},
   "source": [
    "## intermediate examples"
   ]
  },
  {
   "cell_type": "code",
   "execution_count": null,
   "metadata": {},
   "outputs": [],
   "source": [
    "# probably don't run me during the demo - but...\n",
    "# I can use tools that I'm more comfortable with pretty readily... see how I string interpolate?\n",
    "# \n",
    "\n",
    "# see: https://stackoverflow.com/questions/19576742/how-to-clone-all-repos-at-once-from-github\n",
    "  \n",
    "!cd ~/secops/repos\n",
    "\n",
    "import os\n",
    "from configparser import ConfigParser\n",
    "\n",
    "\n",
    "config = ConfigParser()\n",
    "config.read(os.path.expanduser(\"~/.secrets\"))\n",
    "token=config.get(\"Github\", \"GITHUB_TOKEN\")\n",
    "\n",
    "!GHORG=PrimerAI; curl \"https://api.github.com/orgs/$GHORG/repos?per_page=1000\" -H 'Authorization: token {token}'| grep -o 'git@[^\"]*' | xargs -L1 git clone\n",
    "\n",
    "\n"
   ]
  },
  {
   "cell_type": "code",
   "execution_count": null,
   "metadata": {},
   "outputs": [],
   "source": [
    "# best tools for the job!\n",
    "# I am using the linux commands for directory navigation and git\n",
    "# but the for loop and array from Python\n",
    "\n",
    "repos_we_care_about = [\n",
    "\"science\",\n",
    "\"social\",\n",
    "\"user-management\",]\n",
    "\n",
    "for repo_name in repos_we_care_about:\n",
    "    !cd ~/demo/repos/{repo_name} && git pull # && git clone \"https://github.com/paulkarayan/{repo_name}\" "
   ]
  },
  {
   "cell_type": "code",
   "execution_count": null,
   "metadata": {},
   "outputs": [],
   "source": [
    "# finally - note that this is running as my user. very powerful!"
   ]
  }
 ],
 "metadata": {
  "kernelspec": {
   "display_name": "Python 3",
   "language": "python",
   "name": "python3"
  },
  "language_info": {
   "codemirror_mode": {
    "name": "ipython",
    "version": 3
   },
   "file_extension": ".py",
   "mimetype": "text/x-python",
   "name": "python",
   "nbconvert_exporter": "python",
   "pygments_lexer": "ipython3",
   "version": "3.7.7"
  }
 },
 "nbformat": 4,
 "nbformat_minor": 4
}

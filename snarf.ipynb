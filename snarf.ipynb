{
 "cells": [
  {
   "cell_type": "markdown",
   "metadata": {},
   "source": [
    "# \"Product Manager\" API Testing\n",
    "\n",
    "\n",
    "Snarf is a representative API and/or Open Source library that you've heard a lot about.\n",
    "It helps you check if a person you have is a Snarfer, and returns their email address.\n",
    "\n",
    "Our Example:\n",
    "* Allows you to look up a name in list of Snarfers, and get their email address if present\n",
    "* Has limited functionality beyond that\n",
    "* [GREEN] Security Testing \n",
    "* [GREEN] Function Test Coverage\n",
    "\n",
    "\n",
    "## provide helpful supporting links\n",
    "* here\n",
    "* here \n",
    "* here\n",
    "\n",
    "## TODOs\n",
    "* maybe add ability to check progress against a mock?\n",
    "* fuzz testing?"
   ]
  },
  {
   "cell_type": "code",
   "execution_count": 30,
   "metadata": {},
   "outputs": [],
   "source": [
    "# Let's set up Snarf here. \n",
    "## We use a docker container behind the scenes or run this example in a pod on Kubernetes\n",
    "## So it's going to work for you immediately.\n",
    "\n",
    "from notebook_test_demo import NotebookTestDemo\n",
    "\n",
    "snarf = NotebookTestDemo()\n",
    "\n"
   ]
  },
  {
   "cell_type": "code",
   "execution_count": 31,
   "metadata": {},
   "outputs": [
    {
     "data": {
      "text/plain": [
       "'paul@irregular.com'"
      ]
     },
     "execution_count": 31,
     "metadata": {},
     "output_type": "execute_result"
    }
   ],
   "source": [
    "# Example 1 - check Snarfer list for name and get email\n",
    "\n",
    "snarf.email_search(\"paul karayan\")\n"
   ]
  },
  {
   "cell_type": "markdown",
   "metadata": {},
   "source": [
    "# Testing\n",
    "\n",
    "We provide robust testing for each of the libraries that we work with.\n",
    "We have some nifty tools that generate them from Swagger specs and generally help us keep on top of failures.\n"
   ]
  },
  {
   "cell_type": "code",
   "execution_count": 32,
   "metadata": {},
   "outputs": [
    {
     "name": "stdout",
     "output_type": "stream",
     "text": [
      "Test Failure!\n"
     ]
    }
   ],
   "source": [
    "# Example 1 - Snarf is case sensitive!\n",
    "\n",
    "# if a lookup fails, we want to see \"No Email Found\" returned.\n",
    "# here's an example of what we'd do in \"the functional product tests\"\n",
    "# and what failure might look lke\n",
    "\n",
    "snarf.email_search(\"paul parayan\")\n",
    "if _ != \"No Email Found\":\n",
    "    print(\"Test Failure!\")\n",
    "\n"
   ]
  },
  {
   "cell_type": "code",
   "execution_count": 33,
   "metadata": {},
   "outputs": [
    {
     "name": "stdout",
     "output_type": "stream",
     "text": [
      "Validating the input data using jsonschema:\n",
      "Record #0: OK\n",
      "Record #1: OK\n"
     ]
    },
    {
     "name": "stderr",
     "output_type": "stream",
     "text": [
      "Record #2: ERROR\n",
      "'thirty' is not of type 'number'\n",
      "\n",
      "Failed validating 'type' in schema['properties']['price']:\n",
      "    {'type': 'number'}\n",
      "\n",
      "On instance['price']:\n",
      "    'thirty'\n",
      "Record #3: ERROR\n",
      "40 is not of type 'string'\n",
      "\n",
      "Failed validating 'type' in schema['properties']['name']:\n",
      "    {'type': 'string'}\n",
      "\n",
      "On instance['name']:\n",
      "    40\n",
      "Record #4: ERROR\n",
      "'fifty' is not of type 'number'\n",
      "\n",
      "Failed validating 'type' in schema['properties']['price']:\n",
      "    {'type': 'number'}\n",
      "\n",
      "On instance['price']:\n",
      "    'fifty'\n"
     ]
    }
   ],
   "source": [
    "# Example 2 - JSON response comparison\n",
    "# we can do pretty complex tests, as well.\n",
    "# see: http://code.activestate.com/recipes/579135-validate-data-easily-with-json-schema/\n",
    "# but note that we can do this without having to test the schema - but if speced, this is awesome!\n",
    "\n",
    "# Create the schema, as a nested Python dict, \n",
    "# specifying the data elements, their names and their types.\n",
    "required_schema = {\n",
    "    \"type\" : \"object\",\n",
    "    \"properties\" : {\n",
    "        \"price\" : {\"type\" : \"number\"},\n",
    "        \"name\" : {\"type\" : \"string\"},\n",
    "    },\n",
    "}\n",
    "\n",
    "# The data to be validated:\n",
    "# Two records OK, three records in ERROR.\n",
    "test_json_data = \\\n",
    "[\n",
    "    { \"name\": \"Apples\", \"price\": 10},\n",
    "    { \"name\": \"Bananas\", \"price\": 20},\n",
    "    { \"name\": \"Cherries\", \"price\": \"thirty\"},\n",
    "    { \"name\": 40, \"price\": 40},\n",
    "    { \"name\": 50, \"price\": \"fifty\"}\n",
    "]\n",
    "\n",
    "\n",
    "snarf.validate_json_schema(required_schema, test_json_data)\n"
   ]
  },
  {
   "cell_type": "code",
   "execution_count": 34,
   "metadata": {},
   "outputs": [
    {
     "name": "stdout",
     "output_type": "stream",
     "text": [
      "382 ms ± 17.1 ms per loop (mean ± std. dev. of 7 runs, 1 loop each)\n"
     ]
    },
    {
     "data": {
      "text/plain": [
       "<TimeitResult : 382 ms ± 17.1 ms per loop (mean ± std. dev. of 7 runs, 1 loop each)>"
      ]
     },
     "execution_count": 34,
     "metadata": {},
     "output_type": "execute_result"
    }
   ],
   "source": [
    "%%timeit -o\n",
    "# Example 3 - Performance tests\n",
    "\n",
    "## we can even test the performance of a simple endpoint\n",
    "\n",
    "snarf.slow_perf_endpoint()"
   ]
  },
  {
   "cell_type": "code",
   "execution_count": 35,
   "metadata": {},
   "outputs": [
    {
     "name": "stdout",
     "output_type": "stream",
     "text": [
      "Test Passed: 0.3601227170001948\n"
     ]
    }
   ],
   "source": [
    "# fail if our best time isn't better than \n",
    "latency_failure_threshold_ms = 0.55\n",
    "\n",
    "if _.best >= latency_failure_threshold_ms:\n",
    "    print(\"Test Failed:\", _.best)\n",
    "else:\n",
    "    print(\"Test Passed:\", _.best)    "
   ]
  }
 ],
 "metadata": {
  "kernelspec": {
   "display_name": "Python 3",
   "language": "python",
   "name": "python3"
  },
  "language_info": {
   "codemirror_mode": {
    "name": "ipython",
    "version": 3
   },
   "file_extension": ".py",
   "mimetype": "text/x-python",
   "name": "python",
   "nbconvert_exporter": "python",
   "pygments_lexer": "ipython3",
   "version": "3.7.7"
  }
 },
 "nbformat": 4,
 "nbformat_minor": 2
}

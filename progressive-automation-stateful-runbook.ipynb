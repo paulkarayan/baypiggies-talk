{
 "cells": [
  {
   "cell_type": "markdown",
   "metadata": {},
   "source": [
    "# Stateful Notebook Processes\n",
    "this notebook demonstrates how you can hold state of a businessprocess\n",
    "\n",
    "for example - onboarding of a user can be partially completed, and saved. another person can pick it back up\n",
    "\n",
    "## Directions\n",
    "* make a copy of the notebook\n",
    "* Fill in metadata - e.g. date and name\n",
    "* Manually fill in whatever else you want. to skip an item, set it to \"True\".\n",
    "* Update the progress dictionary - which can be hidden from the user. \n",
    "* When finished or stopping, save this. Perhaps, to the ticket as an artifact "
   ]
  },
  {
   "cell_type": "code",
   "execution_count": 1,
   "metadata": {},
   "outputs": [],
   "source": [
    "# Here are the guts of the content and the state\n",
    "\n",
    "progress =  {\n",
    "    \"name\" : \"Someone Here\",\n",
    "    \"onboarding_date\": \"05/01/2018\",\n",
    "    \"System One\": False,\n",
    "    \"Bug Tracker\": False,\n",
    "    \"Asana\": False,\n",
    "    \"Docker\": False,\n",
    "    \"Github\": False,\n",
    "}\n",
    "\n",
    "doc_links = {\n",
    "    \"System One\": \"\"\"Use<a href='http://link.to/documentation' target='_blank'> this job </a>. You'll need to request\n",
    "              access if you dont have it.\"\"\",\n",
    "    \"Github\": \"\"\" I have no clue\"\"\",\n",
    "    \"Bug Tracker\": \"Add it in the UI.\",\n",
    "    \"Docker\": \"\"\"HTML for documentation can be added here\"\"\",\n",
    "    \"Asana\": \"For now, ????\",\n",
    "}\n",
    "\n"
   ]
  },
  {
   "cell_type": "code",
   "execution_count": 2,
   "metadata": {},
   "outputs": [
    {
     "name": "stdout",
     "output_type": "stream",
     "text": [
      "Skip to another task by using method: 'next'\n",
      "Finish a task by using method: 'done'\n",
      "\n"
     ]
    },
    {
     "data": {
      "text/html": [
       "<h2> System One : </h2> "
      ],
      "text/plain": [
       "<IPython.core.display.HTML object>"
      ]
     },
     "metadata": {},
     "output_type": "display_data"
    },
    {
     "data": {
      "text/html": [
       "Use<a href='http://link.to/documentation' target='_blank'> this job </a>. You'll need to request\n",
       "              access if you dont have it."
      ],
      "text/plain": [
       "<IPython.core.display.HTML object>"
      ]
     },
     "metadata": {},
     "output_type": "display_data"
    }
   ],
   "source": [
    "# this will be hidden from users eventually\n",
    "\n",
    "\n",
    "import random \n",
    "\n",
    "from IPython.core.display import display, HTML\n",
    "from IPython.display import display_html\n",
    "\n",
    "class Onboard(object):\n",
    "    def __init__(self, progress):\n",
    "        self.progress = progress\n",
    "        print(\"Skip to another task by using method: 'next'\")\n",
    "        print(\"Finish a task by using method: 'done'\\n\")\n",
    "        self.next()\n",
    "\n",
    "    def status(self):\n",
    "        print(self.progress)\n",
    "        \n",
    "    def next(self):\n",
    "        self.incompletes = [k for k,v in self.progress.items() if v in [False, \"In Progress\"]]\n",
    "        \n",
    "        if not self.incompletes:\n",
    "            print(\"No more incomplete tasks. You are finished.\")\n",
    "            print(\"please save this notebook and attach to ticket\")\n",
    "            # TODO: If we were really good, we'd do this automatically...\n",
    "        \n",
    "        else:\n",
    "            self.current_task = random.choice(self.incompletes)\n",
    "            display(HTML(\"\"\"<h2> {} : </h2> \"\"\".format(self.current_task)))\n",
    "            display(HTML(doc_links.get(self.current_task)))\n",
    "            # TODO: pull the documentation for this task...\n",
    "            \n",
    "        \n",
    "    def done(self):\n",
    "        self.progress[self.current_task] = True\n",
    "        print(\"Finished task {}\".format(self.current_task))\n",
    "        self.next()\n",
    "        \n",
    "    # this will file a ticket and set the status to \"In Progress\"\n",
    "    # ideally, will autoclose or something. \n",
    "    # but i haven't implemented it\n",
    "    def ticket(self):\n",
    "        pass\n",
    "\n",
    "ob = Onboard(progress)\n",
    "\n"
   ]
  },
  {
   "cell_type": "code",
   "execution_count": 3,
   "metadata": {},
   "outputs": [
    {
     "name": "stdout",
     "output_type": "stream",
     "text": [
      "{'name': 'Someone Here', 'onboarding_date': '05/01/2018', 'System One': False, 'Bug Tracker': False, 'Asana': False, 'Docker': False, 'Github': False}\n"
     ]
    }
   ],
   "source": [
    "ob.status()"
   ]
  },
  {
   "cell_type": "code",
   "execution_count": 4,
   "metadata": {},
   "outputs": [
    {
     "data": {
      "text/html": [
       "<h2> Docker : </h2> "
      ],
      "text/plain": [
       "<IPython.core.display.HTML object>"
      ]
     },
     "metadata": {},
     "output_type": "display_data"
    },
    {
     "data": {
      "text/html": [
       "HTML for documentation can be added here"
      ],
      "text/plain": [
       "<IPython.core.display.HTML object>"
      ]
     },
     "metadata": {},
     "output_type": "display_data"
    }
   ],
   "source": [
    "ob.next()"
   ]
  },
  {
   "cell_type": "code",
   "execution_count": 5,
   "metadata": {},
   "outputs": [
    {
     "name": "stdout",
     "output_type": "stream",
     "text": [
      "Finished task Docker\n"
     ]
    },
    {
     "data": {
      "text/html": [
       "<h2> Bug Tracker : </h2> "
      ],
      "text/plain": [
       "<IPython.core.display.HTML object>"
      ]
     },
     "metadata": {},
     "output_type": "display_data"
    },
    {
     "data": {
      "text/html": [
       "Add it in the UI."
      ],
      "text/plain": [
       "<IPython.core.display.HTML object>"
      ]
     },
     "metadata": {},
     "output_type": "display_data"
    }
   ],
   "source": [
    "ob.done()"
   ]
  },
  {
   "cell_type": "code",
   "execution_count": null,
   "metadata": {},
   "outputs": [],
   "source": []
  }
 ],
 "metadata": {
  "kernelspec": {
   "display_name": "Python 3",
   "language": "python",
   "name": "python3"
  },
  "language_info": {
   "codemirror_mode": {
    "name": "ipython",
    "version": 3
   },
   "file_extension": ".py",
   "mimetype": "text/x-python",
   "name": "python",
   "nbconvert_exporter": "python",
   "pygments_lexer": "ipython3",
   "version": "3.7.7"
  }
 },
 "nbformat": 4,
 "nbformat_minor": 2
}
